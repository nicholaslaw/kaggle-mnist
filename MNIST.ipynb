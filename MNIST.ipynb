{
 "cells": [
  {
   "cell_type": "markdown",
   "metadata": {},
   "source": [
    "# Import Packages"
   ]
  },
  {
   "cell_type": "code",
   "execution_count": 1,
   "metadata": {},
   "outputs": [],
   "source": [
    "import numpy as np\n",
    "import pandas as pd\n",
    "import matplotlib.pyplot as plt\n",
    "import math\n",
    "from sklearn.model_selection import train_test_split\n",
    "%matplotlib inline\n",
    "\n",
    "import torch\n",
    "import torch.nn as nn\n",
    "import torch.nn.functional as F\n",
    "from torch.utils.data import DataLoader\n",
    "from torchvision import datasets, transforms, models # add models to the list\n",
    "from torchvision.utils import make_grid\n",
    "from torch.autograd import Variable"
   ]
  },
  {
   "cell_type": "markdown",
   "metadata": {},
   "source": [
    "# Import Data"
   ]
  },
  {
   "cell_type": "code",
   "execution_count": 2,
   "metadata": {},
   "outputs": [
    {
     "data": {
      "text/html": [
       "<div>\n",
       "<style scoped>\n",
       "    .dataframe tbody tr th:only-of-type {\n",
       "        vertical-align: middle;\n",
       "    }\n",
       "\n",
       "    .dataframe tbody tr th {\n",
       "        vertical-align: top;\n",
       "    }\n",
       "\n",
       "    .dataframe thead th {\n",
       "        text-align: right;\n",
       "    }\n",
       "</style>\n",
       "<table border=\"1\" class=\"dataframe\">\n",
       "  <thead>\n",
       "    <tr style=\"text-align: right;\">\n",
       "      <th></th>\n",
       "      <th>label</th>\n",
       "      <th>pixel0</th>\n",
       "      <th>pixel1</th>\n",
       "      <th>pixel2</th>\n",
       "      <th>pixel3</th>\n",
       "      <th>pixel4</th>\n",
       "      <th>pixel5</th>\n",
       "      <th>pixel6</th>\n",
       "      <th>pixel7</th>\n",
       "      <th>pixel8</th>\n",
       "      <th>...</th>\n",
       "      <th>pixel774</th>\n",
       "      <th>pixel775</th>\n",
       "      <th>pixel776</th>\n",
       "      <th>pixel777</th>\n",
       "      <th>pixel778</th>\n",
       "      <th>pixel779</th>\n",
       "      <th>pixel780</th>\n",
       "      <th>pixel781</th>\n",
       "      <th>pixel782</th>\n",
       "      <th>pixel783</th>\n",
       "    </tr>\n",
       "  </thead>\n",
       "  <tbody>\n",
       "    <tr>\n",
       "      <th>0</th>\n",
       "      <td>1.0</td>\n",
       "      <td>0.0</td>\n",
       "      <td>0.0</td>\n",
       "      <td>0.0</td>\n",
       "      <td>0.0</td>\n",
       "      <td>0.0</td>\n",
       "      <td>0.0</td>\n",
       "      <td>0.0</td>\n",
       "      <td>0.0</td>\n",
       "      <td>0.0</td>\n",
       "      <td>...</td>\n",
       "      <td>0.0</td>\n",
       "      <td>0.0</td>\n",
       "      <td>0.0</td>\n",
       "      <td>0.0</td>\n",
       "      <td>0.0</td>\n",
       "      <td>0.0</td>\n",
       "      <td>0.0</td>\n",
       "      <td>0.0</td>\n",
       "      <td>0.0</td>\n",
       "      <td>0.0</td>\n",
       "    </tr>\n",
       "    <tr>\n",
       "      <th>1</th>\n",
       "      <td>0.0</td>\n",
       "      <td>0.0</td>\n",
       "      <td>0.0</td>\n",
       "      <td>0.0</td>\n",
       "      <td>0.0</td>\n",
       "      <td>0.0</td>\n",
       "      <td>0.0</td>\n",
       "      <td>0.0</td>\n",
       "      <td>0.0</td>\n",
       "      <td>0.0</td>\n",
       "      <td>...</td>\n",
       "      <td>0.0</td>\n",
       "      <td>0.0</td>\n",
       "      <td>0.0</td>\n",
       "      <td>0.0</td>\n",
       "      <td>0.0</td>\n",
       "      <td>0.0</td>\n",
       "      <td>0.0</td>\n",
       "      <td>0.0</td>\n",
       "      <td>0.0</td>\n",
       "      <td>0.0</td>\n",
       "    </tr>\n",
       "    <tr>\n",
       "      <th>2</th>\n",
       "      <td>1.0</td>\n",
       "      <td>0.0</td>\n",
       "      <td>0.0</td>\n",
       "      <td>0.0</td>\n",
       "      <td>0.0</td>\n",
       "      <td>0.0</td>\n",
       "      <td>0.0</td>\n",
       "      <td>0.0</td>\n",
       "      <td>0.0</td>\n",
       "      <td>0.0</td>\n",
       "      <td>...</td>\n",
       "      <td>0.0</td>\n",
       "      <td>0.0</td>\n",
       "      <td>0.0</td>\n",
       "      <td>0.0</td>\n",
       "      <td>0.0</td>\n",
       "      <td>0.0</td>\n",
       "      <td>0.0</td>\n",
       "      <td>0.0</td>\n",
       "      <td>0.0</td>\n",
       "      <td>0.0</td>\n",
       "    </tr>\n",
       "    <tr>\n",
       "      <th>3</th>\n",
       "      <td>4.0</td>\n",
       "      <td>0.0</td>\n",
       "      <td>0.0</td>\n",
       "      <td>0.0</td>\n",
       "      <td>0.0</td>\n",
       "      <td>0.0</td>\n",
       "      <td>0.0</td>\n",
       "      <td>0.0</td>\n",
       "      <td>0.0</td>\n",
       "      <td>0.0</td>\n",
       "      <td>...</td>\n",
       "      <td>0.0</td>\n",
       "      <td>0.0</td>\n",
       "      <td>0.0</td>\n",
       "      <td>0.0</td>\n",
       "      <td>0.0</td>\n",
       "      <td>0.0</td>\n",
       "      <td>0.0</td>\n",
       "      <td>0.0</td>\n",
       "      <td>0.0</td>\n",
       "      <td>0.0</td>\n",
       "    </tr>\n",
       "    <tr>\n",
       "      <th>4</th>\n",
       "      <td>0.0</td>\n",
       "      <td>0.0</td>\n",
       "      <td>0.0</td>\n",
       "      <td>0.0</td>\n",
       "      <td>0.0</td>\n",
       "      <td>0.0</td>\n",
       "      <td>0.0</td>\n",
       "      <td>0.0</td>\n",
       "      <td>0.0</td>\n",
       "      <td>0.0</td>\n",
       "      <td>...</td>\n",
       "      <td>0.0</td>\n",
       "      <td>0.0</td>\n",
       "      <td>0.0</td>\n",
       "      <td>0.0</td>\n",
       "      <td>0.0</td>\n",
       "      <td>0.0</td>\n",
       "      <td>0.0</td>\n",
       "      <td>0.0</td>\n",
       "      <td>0.0</td>\n",
       "      <td>0.0</td>\n",
       "    </tr>\n",
       "  </tbody>\n",
       "</table>\n",
       "<p>5 rows × 785 columns</p>\n",
       "</div>"
      ],
      "text/plain": [
       "   label  pixel0  pixel1  pixel2  pixel3  pixel4  pixel5  pixel6  pixel7  \\\n",
       "0    1.0     0.0     0.0     0.0     0.0     0.0     0.0     0.0     0.0   \n",
       "1    0.0     0.0     0.0     0.0     0.0     0.0     0.0     0.0     0.0   \n",
       "2    1.0     0.0     0.0     0.0     0.0     0.0     0.0     0.0     0.0   \n",
       "3    4.0     0.0     0.0     0.0     0.0     0.0     0.0     0.0     0.0   \n",
       "4    0.0     0.0     0.0     0.0     0.0     0.0     0.0     0.0     0.0   \n",
       "\n",
       "   pixel8  ...  pixel774  pixel775  pixel776  pixel777  pixel778  pixel779  \\\n",
       "0     0.0  ...       0.0       0.0       0.0       0.0       0.0       0.0   \n",
       "1     0.0  ...       0.0       0.0       0.0       0.0       0.0       0.0   \n",
       "2     0.0  ...       0.0       0.0       0.0       0.0       0.0       0.0   \n",
       "3     0.0  ...       0.0       0.0       0.0       0.0       0.0       0.0   \n",
       "4     0.0  ...       0.0       0.0       0.0       0.0       0.0       0.0   \n",
       "\n",
       "   pixel780  pixel781  pixel782  pixel783  \n",
       "0       0.0       0.0       0.0       0.0  \n",
       "1       0.0       0.0       0.0       0.0  \n",
       "2       0.0       0.0       0.0       0.0  \n",
       "3       0.0       0.0       0.0       0.0  \n",
       "4       0.0       0.0       0.0       0.0  \n",
       "\n",
       "[5 rows x 785 columns]"
      ]
     },
     "execution_count": 2,
     "metadata": {},
     "output_type": "execute_result"
    }
   ],
   "source": [
    "train = pd.read_csv(\"./data/train.csv\", dtype=np.float32) # import only train data for trivial modelling\n",
    "train.head()"
   ]
  },
  {
   "cell_type": "markdown",
   "metadata": {},
   "source": [
    "# Convert CSV to Tensors"
   ]
  },
  {
   "cell_type": "code",
   "execution_count": 3,
   "metadata": {},
   "outputs": [
    {
     "name": "stdout",
     "output_type": "stream",
     "text": [
      "Train Features Shape: torch.Size([26880, 1, 28, 28])\n",
      "Validation Features Shape: torch.Size([6720, 1, 28, 28])\n",
      "Test Features Shape: torch.Size([8400, 1, 28, 28])\n",
      "\n",
      "\n"
     ]
    },
    {
     "data": {
      "image/png": "[encoded data removed]",
      "text/plain": [
       "<Figure size 432x288 with 1 Axes>"
      ]
     },
     "metadata": {
      "needs_background": "light"
     },
     "output_type": "display_data"
    }
   ],
   "source": [
    "train_features = train.loc[:, train.columns != \"label\"].values / 255\n",
    "train_features = train_features.reshape((len(train), 1, 28, 28))\n",
    "train_labels = train[\"label\"].values\n",
    "\n",
    "train_features, test_features, train_labels, test_labels = train_test_split(train_features, train_labels,\n",
    "                                                                           test_size=0.2, random_state=42, stratify=train_labels)\n",
    "train_features, val_features, train_labels, val_labels = train_test_split(train_features, train_labels,\n",
    "                                                                           test_size=0.2, random_state=42, stratify=train_labels)\n",
    "\n",
    "train_features = torch.from_numpy(train_features)\n",
    "train_labels = torch.from_numpy(train_labels).type(torch.LongTensor)\n",
    "\n",
    "val_features = torch.from_numpy(val_features)\n",
    "val_labels = torch.from_numpy(val_labels).type(torch.LongTensor)\n",
    "\n",
    "test_features = torch.from_numpy(test_features)\n",
    "test_labels = torch.from_numpy(test_labels).type(torch.LongTensor)\n",
    "\n",
    "print(\"Train Features Shape: {}\".format(train_features.shape))\n",
    "print(\"Validation Features Shape: {}\".format(val_features.shape))\n",
    "print(\"Test Features Shape: {}\\n\\n\".format(test_features.shape))\n",
    "\n",
    "plt.imshow(train_features.numpy()[0, :].reshape(28,28))\n",
    "plt.axis(\"off\")\n",
    "plt.title(str(train_labels.numpy()[0]))\n",
    "plt.show()"
   ]
  },
  {
   "cell_type": "markdown",
   "metadata": {},
   "source": [
    "# Torch Dataset and DataLoader"
   ]
  },
  {
   "cell_type": "code",
   "execution_count": 4,
   "metadata": {},
   "outputs": [],
   "source": [
    "torch.manual_seed(42)\n",
    "BATCH_SIZE = 10\n",
    "\n",
    "train = torch.utils.data.TensorDataset(train_features,train_labels)\n",
    "val = torch.utils.data.TensorDataset(val_features,val_labels)\n",
    "\n",
    "train_loader = DataLoader(train, batch_size = BATCH_SIZE, shuffle = True)\n",
    "val_loader = DataLoader(val, batch_size = BATCH_SIZE, shuffle = True)"
   ]
  },
  {
   "cell_type": "markdown",
   "metadata": {},
   "source": [
    "# CNN"
   ]
  },
  {
   "cell_type": "code",
   "execution_count": 5,
   "metadata": {},
   "outputs": [],
   "source": [
    "def conv2d_then_maxpool2d(x):\n",
    "    return (x-2) /2 \n",
    "\n",
    "num_neurons = math.floor(conv2d_then_maxpool2d(conv2d_then_maxpool2d(28)))\n",
    "\n",
    "class ConvolutionalNetwork(nn.Module):\n",
    "    def __init__(self):\n",
    "        super().__init__()\n",
    "        self.conv1 = nn.Conv2d(1, 6, 3, 1)\n",
    "        self.conv2 = nn.Conv2d(6, 16, 3, 1)\n",
    "        self.fc1 = nn.Linear(num_neurons*num_neurons*16, 120)\n",
    "        self.fc2 = nn.Linear(120, 84)\n",
    "        self.fc3 = nn.Linear(84,10)\n",
    "\n",
    "    def forward(self, X):\n",
    "        X = F.relu(self.conv1(X))\n",
    "        X = F.max_pool2d(X, 2, 2)\n",
    "        X = F.relu(self.conv2(X))\n",
    "        X = F.max_pool2d(X, 2, 2)\n",
    "        X = X.view(-1, num_neurons*num_neurons*16)\n",
    "        X = F.relu(self.fc1(X))\n",
    "        X = F.relu(self.fc2(X))\n",
    "        X = self.fc3(X)\n",
    "        return F.log_softmax(X, dim=1)"
   ]
  },
  {
   "cell_type": "code",
   "execution_count": 6,
   "metadata": {},
   "outputs": [
    {
     "data": {
      "text/plain": [
       "ConvolutionalNetwork(\n",
       "  (conv1): Conv2d(1, 6, kernel_size=(3, 3), stride=(1, 1))\n",
       "  (conv2): Conv2d(6, 16, kernel_size=(3, 3), stride=(1, 1))\n",
       "  (fc1): Linear(in_features=400, out_features=120, bias=True)\n",
       "  (fc2): Linear(in_features=120, out_features=84, bias=True)\n",
       "  (fc3): Linear(in_features=84, out_features=10, bias=True)\n",
       ")"
      ]
     },
     "execution_count": 6,
     "metadata": {},
     "output_type": "execute_result"
    }
   ],
   "source": [
    "torch.manual_seed(42)\n",
    "CNNmodel = ConvolutionalNetwork()\n",
    "criterion = nn.CrossEntropyLoss()\n",
    "optimizer = torch.optim.Adam(CNNmodel.parameters(), lr=0.001)\n",
    "CNNmodel"
   ]
  },
  {
   "cell_type": "markdown",
   "metadata": {},
   "source": [
    "# Train CNN"
   ]
  },
  {
   "cell_type": "code",
   "execution_count": 7,
   "metadata": {},
   "outputs": [
    {
     "name": "stdout",
     "output_type": "stream",
     "text": [
      "Epoch: 0\tBatch: 200\tLoss: 0.550989031791687\tAccuracy: 0.5905\n",
      "Epoch: 0\tBatch: 400\tLoss: 0.38097310066223145\tAccuracy: 0.722\n",
      "Epoch: 0\tBatch: 600\tLoss: 0.11503608524799347\tAccuracy: 0.78\n",
      "Epoch: 0\tBatch: 800\tLoss: 0.12017730623483658\tAccuracy: 0.812625\n",
      "Epoch: 0\tBatch: 1000\tLoss: 0.06634638458490372\tAccuracy: 0.8368\n",
      "Epoch: 0\tBatch: 1200\tLoss: 0.16992244124412537\tAccuracy: 0.8535833333333334\n",
      "Epoch: 0\tBatch: 1400\tLoss: 0.0072724102064967155\tAccuracy: 0.8662857142857143\n",
      "Epoch: 0\tBatch: 1600\tLoss: 0.7162083983421326\tAccuracy: 0.87575\n",
      "Epoch: 0\tBatch: 1800\tLoss: 0.07965947687625885\tAccuracy: 0.8832777777777778\n",
      "Epoch: 0\tBatch: 2000\tLoss: 0.018856855109333992\tAccuracy: 0.8901\n",
      "Epoch: 0\tBatch: 2200\tLoss: 0.009889531880617142\tAccuracy: 0.8958636363636364\n",
      "Epoch: 0\tBatch: 2400\tLoss: 0.028292987495660782\tAccuracy: 0.90075\n",
      "Epoch: 0\tBatch: 2600\tLoss: 0.046064592897892\tAccuracy: 0.9048846153846154\n",
      "Epoch: 1\tBatch: 200\tLoss: 0.05635964870452881\tAccuracy: 0.9705\n",
      "Epoch: 1\tBatch: 400\tLoss: 1.0323784351348877\tAccuracy: 0.97075\n",
      "Epoch: 1\tBatch: 600\tLoss: 0.04362768679857254\tAccuracy: 0.9681666666666666\n",
      "Epoch: 1\tBatch: 800\tLoss: 0.4244235157966614\tAccuracy: 0.9685\n",
      "Epoch: 1\tBatch: 1000\tLoss: 0.038925644010305405\tAccuracy: 0.9676\n",
      "Epoch: 1\tBatch: 1200\tLoss: 0.2638079524040222\tAccuracy: 0.9674166666666667\n",
      "Epoch: 1\tBatch: 1400\tLoss: 0.30023592710494995\tAccuracy: 0.9672142857142857\n",
      "Epoch: 1\tBatch: 1600\tLoss: 0.019457459449768066\tAccuracy: 0.968375\n",
      "Epoch: 1\tBatch: 1800\tLoss: 0.005986891686916351\tAccuracy: 0.9691666666666666\n",
      "Epoch: 1\tBatch: 2000\tLoss: 0.0025407264474779367\tAccuracy: 0.96865\n",
      "Epoch: 1\tBatch: 2200\tLoss: 0.005094212479889393\tAccuracy: 0.9694545454545455\n",
      "Epoch: 1\tBatch: 2400\tLoss: 0.01141512393951416\tAccuracy: 0.9702083333333333\n",
      "Epoch: 1\tBatch: 2600\tLoss: 0.027440030127763748\tAccuracy: 0.9701923076923077\n",
      "Epoch: 2\tBatch: 200\tLoss: 0.00926404632627964\tAccuracy: 0.9815\n",
      "Epoch: 2\tBatch: 400\tLoss: 0.004660151898860931\tAccuracy: 0.98\n",
      "Epoch: 2\tBatch: 600\tLoss: 0.19465705752372742\tAccuracy: 0.979\n",
      "Epoch: 2\tBatch: 800\tLoss: 0.033448249101638794\tAccuracy: 0.978\n",
      "Epoch: 2\tBatch: 1000\tLoss: 0.033789921551942825\tAccuracy: 0.9782\n",
      "Epoch: 2\tBatch: 1200\tLoss: 0.0028298115357756615\tAccuracy: 0.979\n",
      "Epoch: 2\tBatch: 1400\tLoss: 0.000798753637354821\tAccuracy: 0.9789285714285715\n",
      "Epoch: 2\tBatch: 1600\tLoss: 0.1939760446548462\tAccuracy: 0.979125\n",
      "Epoch: 2\tBatch: 1800\tLoss: 0.0006267938879318535\tAccuracy: 0.9795\n",
      "Epoch: 2\tBatch: 2000\tLoss: 0.003053204622119665\tAccuracy: 0.97915\n",
      "Epoch: 2\tBatch: 2200\tLoss: 0.10991636663675308\tAccuracy: 0.9793636363636363\n",
      "Epoch: 2\tBatch: 2400\tLoss: 0.0021864483132958412\tAccuracy: 0.9792916666666667\n",
      "Epoch: 2\tBatch: 2600\tLoss: 0.004408803768455982\tAccuracy: 0.9791538461538462\n",
      "Epoch: 3\tBatch: 200\tLoss: 0.006602675653994083\tAccuracy: 0.986\n",
      "Epoch: 3\tBatch: 400\tLoss: 0.0020189709030091763\tAccuracy: 0.98175\n",
      "Epoch: 3\tBatch: 600\tLoss: 0.09843003749847412\tAccuracy: 0.9818333333333333\n",
      "Epoch: 3\tBatch: 800\tLoss: 0.001816184027120471\tAccuracy: 0.984125\n",
      "Epoch: 3\tBatch: 1000\tLoss: 0.0016593558248132467\tAccuracy: 0.9845\n",
      "Epoch: 3\tBatch: 1200\tLoss: 0.012574737891554832\tAccuracy: 0.984\n",
      "Epoch: 3\tBatch: 1400\tLoss: 0.00020126986782997847\tAccuracy: 0.9844285714285714\n",
      "Epoch: 3\tBatch: 1600\tLoss: 0.010087788105010986\tAccuracy: 0.98475\n",
      "Epoch: 3\tBatch: 1800\tLoss: 0.00819934718310833\tAccuracy: 0.9847777777777778\n",
      "Epoch: 3\tBatch: 2000\tLoss: 0.09838633984327316\tAccuracy: 0.98445\n",
      "Epoch: 3\tBatch: 2200\tLoss: 0.0001997810322791338\tAccuracy: 0.9847272727272727\n",
      "Epoch: 3\tBatch: 2400\tLoss: 0.0006758868112228811\tAccuracy: 0.9846666666666667\n",
      "Epoch: 3\tBatch: 2600\tLoss: 0.006307295057922602\tAccuracy: 0.9840384615384615\n",
      "Epoch: 4\tBatch: 200\tLoss: 0.08962907642126083\tAccuracy: 0.99\n",
      "Epoch: 4\tBatch: 400\tLoss: 0.0012318084482103586\tAccuracy: 0.9895\n",
      "Epoch: 4\tBatch: 600\tLoss: 0.003684436436742544\tAccuracy: 0.9896666666666667\n",
      "Epoch: 4\tBatch: 800\tLoss: 0.004823892842978239\tAccuracy: 0.987875\n",
      "Epoch: 4\tBatch: 1000\tLoss: 0.001287907361984253\tAccuracy: 0.9874\n",
      "Epoch: 4\tBatch: 1200\tLoss: 0.0057034967467188835\tAccuracy: 0.9878333333333333\n",
      "Epoch: 4\tBatch: 1400\tLoss: 0.005846479441970587\tAccuracy: 0.9868571428571429\n",
      "Epoch: 4\tBatch: 1600\tLoss: 0.002000844571739435\tAccuracy: 0.9870625\n",
      "Epoch: 4\tBatch: 1800\tLoss: 0.017599139362573624\tAccuracy: 0.9866666666666667\n",
      "Epoch: 4\tBatch: 2000\tLoss: 0.0009917307179421186\tAccuracy: 0.98675\n",
      "Epoch: 4\tBatch: 2200\tLoss: 0.0009081159951165318\tAccuracy: 0.9865454545454545\n",
      "Epoch: 4\tBatch: 2400\tLoss: 5.6548557040514424e-05\tAccuracy: 0.9863333333333333\n",
      "Epoch: 4\tBatch: 2600\tLoss: 0.013894112780690193\tAccuracy: 0.9864615384615385\n",
      "Epoch: 5\tBatch: 200\tLoss: 0.00038989452878013253\tAccuracy: 0.992\n",
      "Epoch: 5\tBatch: 400\tLoss: 0.0001630350889172405\tAccuracy: 0.9925\n",
      "Epoch: 5\tBatch: 600\tLoss: 0.0005699991597793996\tAccuracy: 0.9915\n",
      "Epoch: 5\tBatch: 800\tLoss: 0.0337621346116066\tAccuracy: 0.991\n",
      "Epoch: 5\tBatch: 1000\tLoss: 0.006679928861558437\tAccuracy: 0.9904\n",
      "Epoch: 5\tBatch: 1200\tLoss: 0.011471692472696304\tAccuracy: 0.9894166666666667\n",
      "Epoch: 5\tBatch: 1400\tLoss: 0.0002477552625350654\tAccuracy: 0.989\n",
      "Epoch: 5\tBatch: 1600\tLoss: 0.0001255371462320909\tAccuracy: 0.9889375\n",
      "Epoch: 5\tBatch: 1800\tLoss: 0.0367487333714962\tAccuracy: 0.9885\n",
      "Epoch: 5\tBatch: 2000\tLoss: 6.136270530987531e-05\tAccuracy: 0.98875\n",
      "Epoch: 5\tBatch: 2200\tLoss: 0.0020480784587562084\tAccuracy: 0.9888181818181818\n",
      "Epoch: 5\tBatch: 2400\tLoss: 0.0025738817639648914\tAccuracy: 0.988875\n",
      "Epoch: 5\tBatch: 2600\tLoss: 0.0003565262595657259\tAccuracy: 0.9889615384615384\n",
      "Epoch: 6\tBatch: 200\tLoss: 0.008583449758589268\tAccuracy: 0.998\n",
      "Epoch: 6\tBatch: 400\tLoss: 1.790387977962382e-05\tAccuracy: 0.9965\n",
      "Epoch: 6\tBatch: 600\tLoss: 3.8952846807660535e-05\tAccuracy: 0.9948333333333333\n",
      "Epoch: 6\tBatch: 800\tLoss: 0.08715371787548065\tAccuracy: 0.993375\n",
      "Epoch: 6\tBatch: 1000\tLoss: 0.060936249792575836\tAccuracy: 0.9921\n",
      "Epoch: 6\tBatch: 1200\tLoss: 0.0014719574246555567\tAccuracy: 0.9920833333333333\n",
      "Epoch: 6\tBatch: 1400\tLoss: 0.005118454806506634\tAccuracy: 0.9921428571428571\n",
      "Epoch: 6\tBatch: 1600\tLoss: 0.2966570556163788\tAccuracy: 0.992\n",
      "Epoch: 6\tBatch: 1800\tLoss: 0.002604052424430847\tAccuracy: 0.9917777777777778\n",
      "Epoch: 6\tBatch: 2000\tLoss: 0.06091295927762985\tAccuracy: 0.9914\n",
      "Epoch: 6\tBatch: 2200\tLoss: 0.07362736761569977\tAccuracy: 0.9912272727272727\n",
      "Epoch: 6\tBatch: 2400\tLoss: 0.0024320101365447044\tAccuracy: 0.9908333333333333\n",
      "Epoch: 6\tBatch: 2600\tLoss: 0.0030268405098468065\tAccuracy: 0.9906153846153846\n",
      "Epoch: 7\tBatch: 200\tLoss: 0.2799248695373535\tAccuracy: 0.9945\n",
      "Epoch: 7\tBatch: 400\tLoss: 0.1203630194067955\tAccuracy: 0.9945\n",
      "Epoch: 7\tBatch: 600\tLoss: 9.542224870529026e-05\tAccuracy: 0.9936666666666667\n",
      "Epoch: 7\tBatch: 800\tLoss: 0.007079395465552807\tAccuracy: 0.993\n",
      "Epoch: 7\tBatch: 1000\tLoss: 0.0001801337639335543\tAccuracy: 0.9931\n",
      "Epoch: 7\tBatch: 1200\tLoss: 0.000307136622723192\tAccuracy: 0.9935833333333334\n",
      "Epoch: 7\tBatch: 1400\tLoss: 0.009490753524005413\tAccuracy: 0.9935\n",
      "Epoch: 7\tBatch: 1600\tLoss: 0.5334376692771912\tAccuracy: 0.99325\n",
      "Epoch: 7\tBatch: 1800\tLoss: 3.444891990511678e-05\tAccuracy: 0.9928888888888889\n",
      "Epoch: 7\tBatch: 2000\tLoss: 0.0005854755872860551\tAccuracy: 0.99265\n",
      "Epoch: 7\tBatch: 2200\tLoss: 2.583039167802781e-05\tAccuracy: 0.9926818181818182\n",
      "Epoch: 7\tBatch: 2400\tLoss: 0.0004362191539257765\tAccuracy: 0.9926666666666667\n",
      "Epoch: 7\tBatch: 2600\tLoss: 0.0002747561957221478\tAccuracy: 0.9922307692307692\n",
      "Epoch: 8\tBatch: 200\tLoss: 0.007562520448118448\tAccuracy: 0.9905\n",
      "Epoch: 8\tBatch: 400\tLoss: 1.1765769158955663e-05\tAccuracy: 0.9925\n",
      "Epoch: 8\tBatch: 600\tLoss: 0.006892053876072168\tAccuracy: 0.9931666666666666\n",
      "Epoch: 8\tBatch: 800\tLoss: 4.768370942542788e-08\tAccuracy: 0.9935\n",
      "Epoch: 8\tBatch: 1000\tLoss: 0.0002947370521724224\tAccuracy: 0.9932\n",
      "Epoch: 8\tBatch: 1200\tLoss: 0.0003763631684705615\tAccuracy: 0.9929166666666667\n",
      "Epoch: 8\tBatch: 1400\tLoss: 0.007674942724406719\tAccuracy: 0.9933571428571428\n",
      "Epoch: 8\tBatch: 1600\tLoss: 0.011529505252838135\tAccuracy: 0.9935625\n",
      "Epoch: 8\tBatch: 1800\tLoss: 0.000405262631829828\tAccuracy: 0.9932777777777778\n",
      "Epoch: 8\tBatch: 2000\tLoss: 0.004171754699200392\tAccuracy: 0.9932\n",
      "Epoch: 8\tBatch: 2200\tLoss: 0.034492529928684235\tAccuracy: 0.9931818181818182\n",
      "Epoch: 8\tBatch: 2400\tLoss: 0.004565107636153698\tAccuracy: 0.99275\n",
      "Epoch: 8\tBatch: 2600\tLoss: 0.0017679044976830482\tAccuracy: 0.9928846153846154\n"
     ]
    },
    {
     "name": "stdout",
     "output_type": "stream",
     "text": [
      "Epoch: 9\tBatch: 200\tLoss: 0.02131497673690319\tAccuracy: 0.994\n",
      "Epoch: 9\tBatch: 400\tLoss: 0.0013912469148635864\tAccuracy: 0.99575\n",
      "Epoch: 9\tBatch: 600\tLoss: 0.0003377714310772717\tAccuracy: 0.9941666666666666\n",
      "Epoch: 9\tBatch: 800\tLoss: 0.0001974196929950267\tAccuracy: 0.9945\n",
      "Epoch: 9\tBatch: 1000\tLoss: 2.515293317628675e-06\tAccuracy: 0.9942\n",
      "Epoch: 9\tBatch: 1200\tLoss: 1.938229070219677e-05\tAccuracy: 0.9943333333333333\n",
      "Epoch: 9\tBatch: 1400\tLoss: 1.9752042135223746e-05\tAccuracy: 0.9942142857142857\n",
      "Epoch: 9\tBatch: 1600\tLoss: 0.004826757125556469\tAccuracy: 0.994\n",
      "Epoch: 9\tBatch: 1800\tLoss: 0.0004912684671580791\tAccuracy: 0.9938888888888889\n",
      "Epoch: 9\tBatch: 2000\tLoss: 0.05712053179740906\tAccuracy: 0.9941\n",
      "Epoch: 9\tBatch: 2200\tLoss: 0.12808331847190857\tAccuracy: 0.9937727272727273\n",
      "Epoch: 9\tBatch: 2400\tLoss: 0.08377601206302643\tAccuracy: 0.99375\n",
      "Epoch: 9\tBatch: 2600\tLoss: 0.01185671053826809\tAccuracy: 0.9938461538461538\n"
     ]
    }
   ],
   "source": [
    "epochs = 10\n",
    "\n",
    "train_losses = []\n",
    "val_losses = []\n",
    "train_correct = []\n",
    "val_correct = []\n",
    "\n",
    "for i in range(epochs):\n",
    "    CNNmodel.train()\n",
    "    trn_corr = 0\n",
    "    val_corr = 0\n",
    "    \n",
    "    trn_loss = 0\n",
    "    val_loss = 0\n",
    "    \n",
    "    # Run the training batches\n",
    "    for b, (X_train, y_train) in enumerate(train_loader):\n",
    "        b+=1\n",
    "        \n",
    "        # Apply the model\n",
    "        y_pred = CNNmodel(X_train)\n",
    "        loss = criterion(y_pred, y_train)\n",
    " \n",
    "        # Tally the number of correct predictions\n",
    "        predicted = torch.max(y_pred.data, 1)[1]\n",
    "        batch_corr = (predicted == y_train).sum()\n",
    "        trn_corr += batch_corr\n",
    "        \n",
    "        # Update parameters\n",
    "        optimizer.zero_grad()\n",
    "        loss.backward()\n",
    "        optimizer.step()\n",
    "        \n",
    "        trn_loss += loss.item()\n",
    "\n",
    "        # Print interim results\n",
    "        if b%200 == 0:\n",
    "            print(\"Epoch: {}\\tBatch: {}\\tLoss: {}\\tAccuracy: {}\"\\\n",
    "                 .format(i, b, loss.item(), trn_corr.item() / (b*BATCH_SIZE)))\n",
    "\n",
    "    train_losses.append(trn_loss / len(train_features))\n",
    "    train_correct.append(trn_corr.item() / len(train_features))\n",
    "\n",
    "    # Run the testing batches\n",
    "    CNNmodel.eval()\n",
    "    with torch.no_grad():\n",
    "        for b, (X_test, y_val) in enumerate(val_loader):\n",
    "            # Apply the model\n",
    "            y_val_pred = CNNmodel(X_test)\n",
    "\n",
    "            # Tally the number of correct predictions\n",
    "            predicted = torch.max(y_val_pred.data, 1)[1] \n",
    "            val_corr += (predicted == y_val).sum()\n",
    "\n",
    "            loss = criterion(y_val_pred, y_val)\n",
    "            val_loss += loss.item()\n",
    "            \n",
    "    val_losses.append(val_loss / len(val_features))\n",
    "    val_correct.append(val_corr.item() / len(val_features))"
   ]
  },
  {
   "cell_type": "markdown",
   "metadata": {},
   "source": [
    "# Plot Loss and Accuracy"
   ]
  },
  {
   "cell_type": "code",
   "execution_count": 8,
   "metadata": {},
   "outputs": [
    {
     "data": {
      "text/plain": [
       "<matplotlib.legend.Legend at 0x7f8070db6750>"
      ]
     },
     "execution_count": 8,
     "metadata": {},
     "output_type": "execute_result"
    },
    {
     "data": {
      "image/png": "[encoded data removed]",
      "text/plain": [
       "<Figure size 432x288 with 1 Axes>"
      ]
     },
     "metadata": {
      "needs_background": "light"
     },
     "output_type": "display_data"
    }
   ],
   "source": [
    "plt.plot(train_losses, label='training loss')\n",
    "plt.plot(val_losses, label='validation loss')\n",
    "plt.title('Loss at the end of each epoch')\n",
    "plt.legend()"
   ]
  },
  {
   "cell_type": "code",
   "execution_count": 9,
   "metadata": {},
   "outputs": [
    {
     "data": {
      "image/png": "[encoded data removed]",
      "text/plain": [
       "<Figure size 432x288 with 1 Axes>"
      ]
     },
     "metadata": {
      "needs_background": "light"
     },
     "output_type": "display_data"
    }
   ],
   "source": [
    "plt.plot(train_correct, label='training accuracy')\n",
    "plt.plot(val_correct, label='validation accuracy')\n",
    "plt.title('Accuracy at the end of each epoch')\n",
    "plt.legend();"
   ]
  },
  {
   "cell_type": "markdown",
   "metadata": {},
   "source": [
    "# Save Model"
   ]
  },
  {
   "cell_type": "code",
   "execution_count": 10,
   "metadata": {},
   "outputs": [
    {
     "name": "stderr",
     "output_type": "stream",
     "text": [
      "/opt/anaconda3/lib/python3.7/site-packages/torch/serialization.py:402: UserWarning: Couldn't retrieve source code for container of type ConvolutionalNetwork. It won't be checked for correctness upon loading.\n",
      "  \"type \" + obj.__name__ + \". It won't be checked \"\n"
     ]
    }
   ],
   "source": [
    "torch.save(CNNmodel, 'MNIST_model.pt')"
   ]
  },
  {
   "cell_type": "markdown",
   "metadata": {},
   "source": [
    "# Load Model"
   ]
  },
  {
   "cell_type": "code",
   "execution_count": 11,
   "metadata": {},
   "outputs": [
    {
     "data": {
      "text/plain": [
       "ConvolutionalNetwork(\n",
       "  (conv1): Conv2d(1, 6, kernel_size=(3, 3), stride=(1, 1))\n",
       "  (conv2): Conv2d(6, 16, kernel_size=(3, 3), stride=(1, 1))\n",
       "  (fc1): Linear(in_features=400, out_features=120, bias=True)\n",
       "  (fc2): Linear(in_features=120, out_features=84, bias=True)\n",
       "  (fc3): Linear(in_features=84, out_features=10, bias=True)\n",
       ")"
      ]
     },
     "execution_count": 11,
     "metadata": {},
     "output_type": "execute_result"
    }
   ],
   "source": [
    "CNNmodel = torch.load('MNIST_model.pt')\n",
    "CNNmodel"
   ]
  },
  {
   "cell_type": "markdown",
   "metadata": {},
   "source": [
    "# Evaluate Test Data"
   ]
  },
  {
   "cell_type": "code",
   "execution_count": 12,
   "metadata": {},
   "outputs": [],
   "source": [
    "test = torch.utils.data.TensorDataset(test_features,test_labels)\n",
    "test_loader = DataLoader(test, batch_size=BATCH_SIZE, shuffle=False)"
   ]
  },
  {
   "cell_type": "code",
   "execution_count": 13,
   "metadata": {},
   "outputs": [
    {
     "name": "stdout",
     "output_type": "stream",
     "text": [
      "Test Accuracy: 0.9805952380952381\n"
     ]
    }
   ],
   "source": [
    "CNNmodel.eval()\n",
    "with torch.no_grad():\n",
    "    correct = 0\n",
    "    for X_test, y_test in test_loader:\n",
    "        y_pred = CNNmodel(X_test)\n",
    "        predicted = torch.max(y_pred,1)[1]\n",
    "        correct += (predicted == y_test).sum()\n",
    "print(\"Test Accuracy: {}\".format(correct.item() / len(test_features)))"
   ]
  }
 ],
 "metadata": {
  "kernelspec": {
   "display_name": "Python 3",
   "language": "python",
   "name": "python3"
  },
  "language_info": {
   "codemirror_mode": {
    "name": "ipython",
    "version": 3
   },
   "file_extension": ".py",
   "mimetype": "text/x-python",
   "name": "python",
   "nbconvert_exporter": "python",
   "pygments_lexer": "ipython3",
   "version": "3.7.4"
  }
 },
 "nbformat": 4,
 "nbformat_minor": 4
}
